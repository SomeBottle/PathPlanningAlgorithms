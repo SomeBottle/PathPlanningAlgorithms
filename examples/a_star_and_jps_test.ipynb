{
 "cells": [
  {
   "cell_type": "markdown",
   "metadata": {},
   "source": [
    "# 初始化"
   ]
  },
  {
   "cell_type": "code",
   "execution_count": null,
   "metadata": {
    "colab": {
     "base_uri": "https://localhost:8080/"
    },
    "id": "ZvG3PdRPEaC5",
    "outputId": "1f0737ba-6405-4300-f3ac-3d5c039355c3"
   },
   "outputs": [
    {
     "name": "stdout",
     "output_type": "stream",
     "text": [
      "Cloning into 'PathPlanningAlgorithms'...\n",
      "remote: Enumerating objects: 240, done.\u001b[K\n",
      "remote: Counting objects: 100% (240/240), done.\u001b[K\n",
      "remote: Compressing objects: 100% (168/168), done.\u001b[K\n",
      "remote: Total 240 (delta 121), reused 181 (delta 65), pack-reused 0 (from 0)\u001b[K\n",
      "Receiving objects: 100% (240/240), 4.61 MiB | 17.49 MiB/s, done.\n",
      "Resolving deltas: 100% (121/121), done.\n"
     ]
    }
   ],
   "source": [
    "!git clone https://github.com/SomeBottle/PathPlanningAlgorithms.git"
   ]
  },
  {
   "cell_type": "code",
   "execution_count": null,
   "metadata": {
    "id": "8MXxGl5rHEGO"
   },
   "outputs": [],
   "source": [
    "!mv PathPlanningAlgorithms/src/* .\n",
    "!mv test.py my_test.py"
   ]
  },
  {
   "cell_type": "code",
   "execution_count": null,
   "metadata": {},
   "outputs": [],
   "source": [
    "# 因为环境中的 Python 没有配置 tkinter，这里直接规避掉。\n",
    "!sed -i '/import tkinter as tk/d' ./problems/drawer.py"
   ]
  },
  {
   "cell_type": "markdown",
   "metadata": {},
   "source": [
    "# 算法执行"
   ]
  },
  {
   "cell_type": "code",
   "execution_count": null,
   "metadata": {
    "id": "06QsDQy8HGoV"
   },
   "outputs": [],
   "source": [
    "from my_test import test_both_a_star_and_jps"
   ]
  },
  {
   "cell_type": "code",
   "execution_count": null,
   "metadata": {
    "colab": {
     "base_uri": "https://localhost:8080/"
    },
    "id": "DOEE9-KFHVc6",
    "outputId": "439d3aba-452a-45a5-d9fa-74d77fa02692"
   },
   "outputs": [],
   "source": [
    "test_both_a_star_and_jps()"
   ]
  },
  {
   "cell_type": "code",
   "execution_count": null,
   "metadata": {
    "id": "nPpgTS2fHadf"
   },
   "outputs": [],
   "source": [
    "from my_test import test_animate_jps_detour_fixed"
   ]
  },
  {
   "cell_type": "code",
   "execution_count": null,
   "metadata": {
    "colab": {
     "base_uri": "https://localhost:8080/",
     "height": 959
    },
    "id": "wofDpplrHeoO",
    "outputId": "9b429eb3-f716-4c0f-fc93-a05d932d2b5a"
   },
   "outputs": [],
   "source": [
    "# Colab 好像不支持 Matplotlib 的 FuncAnimation，因此这里只能渲染为视频文件了。\n",
    "test_animate_jps_detour_fixed()"
   ]
  }
 ],
 "metadata": {
  "colab": {
   "provenance": []
  },
  "kernelspec": {
   "display_name": "Python 3",
   "name": "python3"
  },
  "language_info": {
   "name": "python"
  }
 },
 "nbformat": 4,
 "nbformat_minor": 0
}
